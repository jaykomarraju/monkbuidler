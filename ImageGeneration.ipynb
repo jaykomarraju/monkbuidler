{
 "cells": [
  {
   "cell_type": "code",
   "execution_count": 8,
   "id": "75ce131e",
   "metadata": {},
   "outputs": [],
   "source": [
    "from PIL import Image, ImageOps"
   ]
  },
  {
   "cell_type": "code",
   "execution_count": 9,
   "id": "3950abc5",
   "metadata": {},
   "outputs": [],
   "source": [
    "\n",
    "# Load the base image\n",
    "base_image_path = 'base-image.png'\n",
    "base_image = Image.open(base_image_path).convert(\"RGBA\")\n"
   ]
  },
  {
   "cell_type": "code",
   "execution_count": 10,
   "id": "14ddcbde",
   "metadata": {},
   "outputs": [],
   "source": [
    "\n",
    "# Define the final image size and the position to center the base image\n",
    "final_size = (800, 800)\n",
    "base_position = ((final_size[0] - base_image.width) // 2, (final_size[1] - base_image.height) // 2)\n",
    "\n"
   ]
  },
  {
   "cell_type": "code",
   "execution_count": null,
   "id": "f1cbf18a",
   "metadata": {},
   "outputs": [],
   "source": []
  },
  {
   "cell_type": "code",
   "execution_count": 39,
   "id": "20d26f29",
   "metadata": {},
   "outputs": [
    {
     "data": {
      "text/plain": [
       "9999"
      ]
     },
     "execution_count": 39,
     "metadata": {},
     "output_type": "execute_result"
    }
   ],
   "source": [
    "import numpy as np\n",
    "\n",
    "def generate_distinct_hsl_colors(total_colors):\n",
    "    \"\"\"Generate a list of distinct HSL colors by evenly distributing hues and adjusting lightness and saturation for variety.\"\"\"\n",
    "    hues = np.linspace(0, 360, total_colors, endpoint=False)\n",
    "    colors = []\n",
    "    for i, hue in enumerate(hues):\n",
    "        # Alternate lightness and saturation to increase distinction between colors\n",
    "        lightness = 25 + (i % 4) * 15  # Cycle through 25%, 40%, 55%, 70%\n",
    "        saturation = 50 if (i // 4) % 2 == 0 else 100  # Alternate saturation between 50% and 100%\n",
    "        colors.append(f'hsl({int(hue)}, {saturation}%, {lightness}%)')\n",
    "    return colors\n",
    "\n",
    "def generate_complementary_hsl(color):\n",
    "    \"\"\"Generate a complementary HSL color.\"\"\"\n",
    "    hue, saturation, lightness = [int(part.split('%')[0]) for part in color[4:-1].split(',')]\n",
    "    comp_hue = (hue + 180) % 360\n",
    "    # Invert lightness and adjust saturation for the complementary color\n",
    "    comp_lightness = 100 - lightness\n",
    "    comp_saturation = 100 if saturation == 50 else 50\n",
    "    return f'hsl({comp_hue}, {comp_saturation}%, {comp_lightness}%)'\n",
    "\n",
    "def create_color_pairs(colors):\n",
    "    \"\"\"Pair each color with its complementary color.\"\"\"\n",
    "    return [(color, generate_complementary_hsl(color)) for color in colors]\n",
    "\n",
    "# Generate total distinct colors for the entire set and then divide by categories\n",
    "total_required_colors = 9999\n",
    "all_colors = generate_distinct_hsl_colors(total_required_colors)\n",
    "\n",
    "# Split the colors into four categories\n",
    "split_index = total_required_colors // 4\n",
    "dark_colors = all_colors[:split_index]\n",
    "light_colors = all_colors[split_index:2*split_index]\n",
    "vibrant_colors = all_colors[2*split_index:3*split_index]\n",
    "classic_muted_colors = all_colors[3*split_index:]\n",
    "\n",
    "# Generate color pairs for each category\n",
    "dark_pairs = create_color_pairs(dark_colors)\n",
    "light_pairs = create_color_pairs(light_colors)\n",
    "vibrant_pairs = create_color_pairs(vibrant_colors)\n",
    "classic_pairs = create_color_pairs(classic_muted_colors)\n",
    "\n",
    "# Combine all pairs into the final list ensuring each pair is visually distinct\n",
    "colors = dark_pairs + light_pairs + vibrant_pairs + classic_pairs\n",
    "\n",
    "len(colors)\n"
   ]
  },
  {
   "cell_type": "code",
   "execution_count": 40,
   "id": "4ccbc2b8",
   "metadata": {},
   "outputs": [
    {
     "name": "stdout",
     "output_type": "stream",
     "text": [
      "All variations have been created and saved.\n"
     ]
    }
   ],
   "source": [
    "\n",
    "\n",
    "\n",
    "for i, (background_color, fill_color) in enumerate(colors):\n",
    "    # Create a new blank image with the final size and background color\n",
    "    final_image = Image.new('RGBA', final_size, background_color)\n",
    "    \n",
    "    # Extract the alpha channel from the base image for smooth edges\n",
    "    alpha = base_image.split()[-1]\n",
    "\n",
    "    # Create an image for recoloring that matches the base image size\n",
    "    recolor_image = Image.new('RGB', base_image.size, fill_color)\n",
    "    recolor_image.putalpha(alpha)  # Apply the original alpha channel\n",
    "\n",
    "    # Ensure smooth edges by using the alpha channel effectively\n",
    "    final_image.paste(recolor_image, base_position, recolor_image)\n",
    "    \n",
    "    # Save the final image\n",
    "    final_image_path = f'{i+1}.png'\n",
    "    final_image.save(final_image_path)\n",
    "\n",
    "print(\"All variations have been created and saved.\")\n"
   ]
  },
  {
   "cell_type": "code",
   "execution_count": 50,
   "id": "b9eb2b48",
   "metadata": {},
   "outputs": [],
   "source": [
    "import json\n",
    "import re\n",
    "import colorsys\n",
    "\n",
    "def parse_hsl(hsl_str):\n",
    "    \"\"\"Parse HSL values from an HSL string.\"\"\"\n",
    "    hsl_match = re.match(r'hsl\\((\\d+), (\\d+)%, (\\d+)%\\)', hsl_str)\n",
    "    if hsl_match:\n",
    "        return tuple(map(int, hsl_match.groups()))\n",
    "    else:\n",
    "        raise ValueError(f\"Could not parse HSL values from '{hsl_str}'\")\n",
    "\n",
    "def hsl_to_hex(h, s, l):\n",
    "    \"\"\"Convert HSL color to HEX format.\"\"\"\n",
    "    rgb = colorsys.hls_to_rgb(h / 360, l / 100, s / 100)\n",
    "    return '#%02x%02x%02x' % tuple(int(c * 255) for c in rgb)\n",
    "\n",
    "def prepare_data(colors):\n",
    "    \"\"\"Prepare data for JSON output, converting colors from HSL to HEX.\"\"\"\n",
    "    data = []\n",
    "    for index, (bg_hsl, fg_hsl) in enumerate(colors):\n",
    "        try:\n",
    "            bg_h, bg_s, bg_l = parse_hsl(bg_hsl)\n",
    "            fg_h, fg_s, fg_l = parse_hsl(fg_hsl)\n",
    "            bg_hex = hsl_to_hex(bg_h, bg_s, bg_l)\n",
    "            fg_hex = hsl_to_hex(fg_h, fg_s, fg_l)\n",
    "            data.append({\n",
    "                \"name\": str((index)+1),\n",
    "                \"description\": f\"Monk Buidler #{index+1}\",\n",
    "                \"background\": bg_hex,\n",
    "                \"foreground\": fg_hex\n",
    "            })\n",
    "        except ValueError as e:\n",
    "            print(f\"Error processing color at index {index}: {e}\")\n",
    "            continue  # Skip this pair and move on to the next\n",
    "    return data\n",
    "\n",
    "# Assuming 'colors' is already defined and filled with HSL color pairs\n",
    "data_to_save = prepare_data(colors[:9420])\n",
    "\n",
    "# Write to JSON file\n",
    "with open('metadata.json', 'w') as file:\n",
    "    json.dump(data_to_save, file, indent=4)\n"
   ]
  },
  {
   "cell_type": "code",
   "execution_count": null,
   "id": "b11ba15d",
   "metadata": {},
   "outputs": [],
   "source": []
  }
 ],
 "metadata": {
  "kernelspec": {
   "display_name": "Python 3 (ipykernel)",
   "language": "python",
   "name": "python3"
  },
  "language_info": {
   "codemirror_mode": {
    "name": "ipython",
    "version": 3
   },
   "file_extension": ".py",
   "mimetype": "text/x-python",
   "name": "python",
   "nbconvert_exporter": "python",
   "pygments_lexer": "ipython3",
   "version": "3.11.5"
  }
 },
 "nbformat": 4,
 "nbformat_minor": 5
}
